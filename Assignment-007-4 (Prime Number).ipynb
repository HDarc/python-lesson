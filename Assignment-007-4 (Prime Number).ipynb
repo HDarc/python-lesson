{
 "metadata": {
  "language_info": {
   "codemirror_mode": {
    "name": "ipython",
    "version": 3
   },
   "file_extension": ".py",
   "mimetype": "text/x-python",
   "name": "python",
   "nbconvert_exporter": "python",
   "pygments_lexer": "ipython3",
   "version": "3.8.5-final"
  },
  "orig_nbformat": 2,
  "kernelspec": {
   "name": "python3",
   "display_name": "Python 3",
   "language": "python"
  }
 },
 "nbformat": 4,
 "nbformat_minor": 2,
 "cells": [
  {
   "cell_type": "code",
   "execution_count": 11,
   "metadata": {},
   "outputs": [
    {
     "output_type": "stream",
     "name": "stdout",
     "text": [
      "11 is a prime number\n"
     ]
    }
   ],
   "source": [
    "num = int(input(\"enter a number to check whether a prime number or not: \"))\n",
    "count = 0\n",
    "\n",
    "for i in range(1, num+1):\n",
    "      if not (num % i == 0):\n",
    "          count += 1\n",
    "\n",
    "if (count >= 3) or (num == 0) or (num == 1):\n",
    "    print(f\"{num} is a prime number\")    \n",
    "else:\n",
    "    print(f\"{num} is not a prime number\")"
   ]
  },
  {
   "cell_type": "code",
   "execution_count": null,
   "metadata": {},
   "outputs": [],
   "source": []
  }
 ]
}