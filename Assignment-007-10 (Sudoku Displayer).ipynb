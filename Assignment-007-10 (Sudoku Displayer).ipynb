{
 "metadata": {
  "language_info": {
   "codemirror_mode": {
    "name": "ipython",
    "version": 3
   },
   "file_extension": ".py",
   "mimetype": "text/x-python",
   "name": "python",
   "nbconvert_exporter": "python",
   "pygments_lexer": "ipython3",
   "version": "3.8.5"
  },
  "orig_nbformat": 2,
  "kernelspec": {
   "name": "python3",
   "display_name": "Python 3.8.5 64-bit ('base': conda)",
   "metadata": {
    "interpreter": {
     "hash": "6f02c220fcf79259ae3639f9a42617e8ca70ea1588609027a4896683f1110c0b"
    }
   }
  }
 },
 "nbformat": 4,
 "nbformat_minor": 2,
 "cells": [
  {
   "cell_type": "code",
   "execution_count": null,
   "metadata": {},
   "outputs": [],
   "source": [
    "sudoku = [\n",
    "    [0, 0, 0, 0, 6, 4, 0, 0, 0],\n",
    "    [7, 0, 0, 0, 0, 0, 3, 9, 0],\n",
    "    [8, 0, 0, 0, 0, 0, 0, 0, 0],\n",
    "    [0, 0, 0, 5, 0, 2, 0, 6, 0],\n",
    "    [0, 8, 0, 4, 0, 0, 0, 0, 0],\n",
    "    [3, 5, 0, 6, 0, 0, 0, 7, 0],\n",
    "    [0, 0, 2, 0, 0, 0, 1, 0, 3],\n",
    "    [0, 0, 1, 0, 5, 9, 0, 0, 0],\n",
    "    [0, 0, 0, 0, 0, 0, 7, 0, 0]\n",
    "]\n",
    "# Desired output format :\n",
    "# - - - - - - - - - - - - - - - \n",
    "# 0  0  0  | 0  6  4  | 0  0  0  \n",
    "# 7  0  0  | 0  0  0  | 3  9  0  \n",
    "# 8  0  0  | 0  0  0  | 0  0  0  \n",
    "# - - - - - - - - - - - - - - - \n",
    "# 0  0  0  | 5  0  2  | 0  6  0  \n",
    "# 0  8  0  | 4  0  0  | 0  0  0  \n",
    "# 3  5  0  | 6  0  0  | 0  7  0  \n",
    "# - - - - - - - - - - - - - - - \n",
    "# 0  0  2  | 0  0  0  | 1  0  3  \n",
    "# 0  0  1  | 0  5  9  | 0  0  0  \n",
    "# 0  0  0  | 0  0  0  | 7  0  0  \n",
    "# - - - - - - - - - - - - - - -\n"
   ]
  },
  {
   "cell_type": "code",
   "execution_count": 1,
   "metadata": {},
   "outputs": [
    {
     "output_type": "stream",
     "name": "stdout",
     "text": [
      "- - - - - - - - - - -\n"
     ]
    },
    {
     "output_type": "error",
     "ename": "NameError",
     "evalue": "name 'sudoku' is not defined",
     "traceback": [
      "\u001b[1;31m---------------------------------------------------------------------------\u001b[0m",
      "\u001b[1;31mNameError\u001b[0m                                 Traceback (most recent call last)",
      "\u001b[1;32m<ipython-input-1-b7d5f2dc6af6>\u001b[0m in \u001b[0;36m<module>\u001b[1;34m\u001b[0m\n\u001b[0;32m      2\u001b[0m \u001b[0mprint\u001b[0m\u001b[1;33m(\u001b[0m\u001b[1;33m*\u001b[0m\u001b[1;34m\"-\"\u001b[0m\u001b[1;33m*\u001b[0m\u001b[1;36m11\u001b[0m\u001b[1;33m)\u001b[0m\u001b[1;33m\u001b[0m\u001b[1;33m\u001b[0m\u001b[0m\n\u001b[0;32m      3\u001b[0m \u001b[1;32mfor\u001b[0m \u001b[0mi\u001b[0m \u001b[1;32min\u001b[0m \u001b[0mrange\u001b[0m\u001b[1;33m(\u001b[0m\u001b[1;36m9\u001b[0m\u001b[1;33m)\u001b[0m\u001b[1;33m:\u001b[0m\u001b[1;33m\u001b[0m\u001b[1;33m\u001b[0m\u001b[0m\n\u001b[1;32m----> 4\u001b[1;33m     \u001b[0mprint\u001b[0m\u001b[1;33m(\u001b[0m\u001b[1;33m*\u001b[0m\u001b[0msudoku\u001b[0m\u001b[1;33m[\u001b[0m\u001b[0mi\u001b[0m\u001b[1;33m]\u001b[0m\u001b[1;33m[\u001b[0m\u001b[1;36m0\u001b[0m\u001b[1;33m:\u001b[0m\u001b[1;36m3\u001b[0m\u001b[1;33m]\u001b[0m\u001b[1;33m,\u001b[0m \u001b[0mend\u001b[0m\u001b[1;33m=\u001b[0m\u001b[1;34m\" | \"\u001b[0m\u001b[1;33m)\u001b[0m\u001b[1;33m\u001b[0m\u001b[1;33m\u001b[0m\u001b[0m\n\u001b[0m\u001b[0;32m      5\u001b[0m     \u001b[0mprint\u001b[0m\u001b[1;33m(\u001b[0m\u001b[1;33m*\u001b[0m\u001b[0msudoku\u001b[0m\u001b[1;33m[\u001b[0m\u001b[0mi\u001b[0m\u001b[1;33m]\u001b[0m\u001b[1;33m[\u001b[0m\u001b[1;36m3\u001b[0m\u001b[1;33m:\u001b[0m\u001b[1;36m6\u001b[0m\u001b[1;33m]\u001b[0m\u001b[1;33m,\u001b[0m \u001b[0mend\u001b[0m\u001b[1;33m=\u001b[0m\u001b[1;34m\" | \"\u001b[0m\u001b[1;33m)\u001b[0m\u001b[1;33m\u001b[0m\u001b[1;33m\u001b[0m\u001b[0m\n\u001b[0;32m      6\u001b[0m     \u001b[0mprint\u001b[0m\u001b[1;33m(\u001b[0m\u001b[1;33m*\u001b[0m\u001b[0msudoku\u001b[0m\u001b[1;33m[\u001b[0m\u001b[0mi\u001b[0m\u001b[1;33m]\u001b[0m\u001b[1;33m[\u001b[0m\u001b[1;36m6\u001b[0m\u001b[1;33m:\u001b[0m\u001b[1;36m9\u001b[0m\u001b[1;33m]\u001b[0m\u001b[1;33m)\u001b[0m\u001b[1;33m\u001b[0m\u001b[1;33m\u001b[0m\u001b[0m\n",
      "\u001b[1;31mNameError\u001b[0m: name 'sudoku' is not defined"
     ]
    }
   ],
   "source": [
    "count = 0\n",
    "print(*\"-\"*11)\n",
    "for i in range(9):\n",
    "    print(*sudoku[i][0:3], end=\" | \")\n",
    "    print(*sudoku[i][3:6], end=\" | \")\n",
    "    print(*sudoku[i][6:9])\n",
    "    count += 1\n",
    "    if count % 3 == 0:\n",
    "        print(*\"-\"*11)"
   ]
  },
  {
   "cell_type": "code",
   "execution_count": null,
   "metadata": {},
   "outputs": [],
   "source": []
  }
 ]
}