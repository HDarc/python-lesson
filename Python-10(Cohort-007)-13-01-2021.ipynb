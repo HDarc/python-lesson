{
 "cells": [
  {
   "cell_type": "markdown",
   "metadata": {},
   "source": [
    "|<h1 style=\"text-align:center; color:black\"><b style=\"color:darkblue\">Python Basic</b> Session - 10</h1>|\n",
    "|:--:|\n",
    "| <img src=\"https://docs.google.com/uc?id=14xeXxFrVRjvOoUYWn_GuyE-v84wVzrqr\" class=\"img-fluid\" alt=\"CLRWY\" width=\"200\" height=\"100\"></h1>|\n",
    "\n",
    "> ## <font color=\"brown\">Control Flow Statements </font>"
   ]
  },
  {
   "cell_type": "code",
   "execution_count": 1,
   "metadata": {},
   "outputs": [
    {
     "name": "stdout",
     "output_type": "stream",
     "text": [
      "Enter a first number :4\n",
      "Enter a second number :5\n",
      "Enter a third number :6\n",
      "The largest number is : 6.0\n"
     ]
    }
   ],
   "source": [
    "num1 = float(input(\"Enter a first number :\"))\n",
    "num2 = float(input(\"Enter a second number :\"))\n",
    "num3 = float(input(\"Enter a third number :\"))\n",
    "\n",
    "if (num1 > num2) and (num1 > num3):\n",
    "    largest = num1\n",
    "elif (num2 > num1) and (num2> num3):\n",
    "    largest = num2\n",
    "else :\n",
    "    largest = num3\n",
    "\n",
    "print(\"The largest number is :\", largest)"
   ]
  },
  {
   "cell_type": "code",
   "execution_count": 4,
   "metadata": {},
   "outputs": [
    {
     "name": "stdout",
     "output_type": "stream",
     "text": [
      "Enter your score :96\n",
      "Your degree is :  A+\n"
     ]
    }
   ],
   "source": [
    "score = int(input(\"Enter your score :\"))\n",
    "\n",
    "if score >= 90:\n",
    "    if score >= 95:\n",
    "        score_letter = \"A+\"\n",
    "    else:\n",
    "        score_letter = \"A\"\n",
    "elif score>= 80:\n",
    "    if score >= 85:\n",
    "        score_letter = \"B+\"\n",
    "    else :\n",
    "        score_letter = \"B\"\n",
    "else:\n",
    "    score_letter = \"B-\"\n",
    "\n",
    "print(\"Your degree is : \", score_letter)"
   ]
  },
  {
   "cell_type": "code",
   "execution_count": null,
   "metadata": {},
   "outputs": [],
   "source": [
    "32.1\n",
    "'32'\n",
    "32-\n",
    "-32\n",
    "32,2"
   ]
  },
  {
   "cell_type": "code",
   "execution_count": 7,
   "metadata": {},
   "outputs": [
    {
     "data": {
      "text/plain": [
       "False"
      ]
     },
     "execution_count": 7,
     "metadata": {},
     "output_type": "execute_result"
    }
   ],
   "source": [
    "\"32,2\".isdigit()"
   ]
  },
  {
   "cell_type": "code",
   "execution_count": 8,
   "metadata": {},
   "outputs": [
    {
     "data": {
      "text/plain": [
       "True"
      ]
     },
     "execution_count": 8,
     "metadata": {},
     "output_type": "execute_result"
    }
   ],
   "source": [
    "\"32\".isdigit()"
   ]
  },
  {
   "cell_type": "code",
   "execution_count": 9,
   "metadata": {},
   "outputs": [
    {
     "data": {
      "text/plain": [
       "False"
      ]
     },
     "execution_count": 9,
     "metadata": {},
     "output_type": "execute_result"
    }
   ],
   "source": [
    "\"123456-\".isdigit()"
   ]
  },
  {
   "cell_type": "code",
   "execution_count": null,
   "metadata": {},
   "outputs": [],
   "source": []
  },
  {
   "cell_type": "code",
   "execution_count": 10,
   "metadata": {},
   "outputs": [
    {
     "name": "stdout",
     "output_type": "stream",
     "text": [
      "Enter your age please :44.4\n",
      "You entered incorrectly!\n",
      "Enter your age again please :-11\n",
      "You entered incorrectly!\n",
      "Enter your age again please :44,4\n",
      "You entered incorrectly!\n",
      "Enter your age again please :12\n",
      "Great! You enter valid input. and your age is  12\n"
     ]
    }
   ],
   "source": [
    "age = input(\"Enter your age please :\")\n",
    "\n",
    "while not age.isdigit():\n",
    "    print(\"You entered incorrectly!\")\n",
    "    age = input(\"Enter your age again please :\")\n",
    "print(\"Great! You entered valid input. and your age is \", age)"
   ]
  },
  {
   "cell_type": "code",
   "execution_count": 12,
   "metadata": {},
   "outputs": [
    {
     "name": "stdout",
     "output_type": "stream",
     "text": [
      "Let's play the guessing game!\n",
      "What a two-digit number am I thinking of ?33\n",
      "Little lower!\n",
      "What a two-digit number am I thinking of ?30\n",
      "Little lower!\n",
      "What a two-digit number am I thinking of ?22\n",
      "Little higher!\n",
      "What a two-digit number am I thinking of ?25\n",
      "Little higher!\n",
      "What a two-digit number am I thinking of ?28\n",
      "Are you a MINDREADER!!\n"
     ]
    }
   ],
   "source": [
    "answer = 28\n",
    "\n",
    "question = \"What a two-digit number am I thinking of ?\"\n",
    "print(\"Let's play the guessing game!\")\n",
    "\n",
    "while True :\n",
    "    \n",
    "    guess = int(input(question))\n",
    "    \n",
    "    if guess < answer :\n",
    "        print(\"Little higher!\")\n",
    "    elif guess > answer :\n",
    "        print(\"Little lower!\")\n",
    "    else:\n",
    "        print(\"Are you a MINDREADER!!\")\n",
    "        break"
   ]
  },
  {
   "cell_type": "code",
   "execution_count": 14,
   "metadata": {},
   "outputs": [
    {
     "name": "stdout",
     "output_type": "stream",
     "text": [
      "Give me a sentece :i am an instructor of clarusway\n",
      "The length of the longest word is : 10\n"
     ]
    }
   ],
   "source": [
    "sentence = input(\"Give me a sentece :\")\n",
    "\n",
    "words = sentence.split()\n",
    "longest = 0\n",
    "i = 0\n",
    "while i < len(words) :\n",
    "    if len(words[i]) > longest:\n",
    "        longest = len(words[i])\n",
    "    i += 1\n",
    "    \n",
    "print(\"The length of the longest word is :\", longest)"
   ]
  },
  {
   "cell_type": "code",
   "execution_count": 13,
   "metadata": {},
   "outputs": [
    {
     "data": {
      "text/plain": [
       "['i', 'am', 'an', 'instructor', 'of', 'clarusway']"
      ]
     },
     "execution_count": 13,
     "metadata": {},
     "output_type": "execute_result"
    }
   ],
   "source": [
    "\"i am an instructor of clarusway\".split()"
   ]
  },
  {
   "cell_type": "code",
   "execution_count": null,
   "metadata": {},
   "outputs": [],
   "source": []
  },
  {
   "cell_type": "code",
   "execution_count": null,
   "metadata": {},
   "outputs": [],
   "source": []
  }
 ],
 "metadata": {
  "kernelspec": {
   "display_name": "Python 3",
   "language": "python",
   "name": "python3"
  },
  "language_info": {
   "codemirror_mode": {
    "name": "ipython",
    "version": 3
   },
   "file_extension": ".py",
   "mimetype": "text/x-python",
   "name": "python",
   "nbconvert_exporter": "python",
   "pygments_lexer": "ipython3",
   "version": "3.7.3"
  }
 },
 "nbformat": 4,
 "nbformat_minor": 4
}
