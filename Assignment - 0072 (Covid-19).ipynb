{
 "metadata": {
  "language_info": {
   "codemirror_mode": {
    "name": "ipython",
    "version": 3
   },
   "file_extension": ".py",
   "mimetype": "text/x-python",
   "name": "python",
   "nbconvert_exporter": "python",
   "pygments_lexer": "ipython3",
   "version": "3.8.5-final"
  },
  "orig_nbformat": 2,
  "kernelspec": {
   "name": "python3",
   "display_name": "Python 3",
   "language": "python"
  }
 },
 "nbformat": 4,
 "nbformat_minor": 2,
 "cells": [
  {
   "cell_type": "code",
   "execution_count": 7,
   "metadata": {},
   "outputs": [
    {
     "output_type": "stream",
     "name": "stdout",
     "text": [
      "You are not in risky group\n"
     ]
    }
   ],
   "source": [
    "age= str(input(\"Are you a cigarette addict older than 75 years old? (Yes/No)\")).title().strip()\n",
    "chronic = str(input(\"Do you have a severe chronic disease? (Yes/No)\")).title().strip()\n",
    "immune = str(input(\"Is your immune system too weak? (Yes/No)\")).title().strip()\n",
    "\n",
    "risk = age or chronic or immune \n",
    "if risk ==  \"Yes\":\n",
    "    print(\"You are in risky group\")\n",
    "else:\n",
    "    print(\"You are not in risky group\")"
   ]
  },
  {
   "cell_type": "code",
   "execution_count": null,
   "metadata": {},
   "outputs": [],
   "source": []
  }
 ]
}