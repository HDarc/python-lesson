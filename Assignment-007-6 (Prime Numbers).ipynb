{
 "metadata": {
  "language_info": {
   "codemirror_mode": {
    "name": "ipython",
    "version": 3
   },
   "file_extension": ".py",
   "mimetype": "text/x-python",
   "name": "python",
   "nbconvert_exporter": "python",
   "pygments_lexer": "ipython3",
   "version": "3.8.5-final"
  },
  "orig_nbformat": 2,
  "kernelspec": {
   "name": "python3",
   "display_name": "Python 3",
   "language": "python"
  }
 },
 "nbformat": 4,
 "nbformat_minor": 2,
 "cells": [
  {
   "cell_type": "code",
   "execution_count": 5,
   "metadata": {},
   "outputs": [
    {
     "output_type": "stream",
     "name": "stdout",
     "text": [
      "[2, 3, 5, 7, 11, 13, 17, 19, 23, 29, 31, 37, 41, 43, 47, 53, 59, 61, 67, 71, 73, 79, 83, 89, 97]\n"
     ]
    }
   ],
   "source": [
    "num = int(input(\"Up to what number do you want to find prime numbers: \"))\n",
    "\n",
    "prime_num = []\n",
    "\n",
    "for i in range(2, num+1):\n",
    "    for x in range(2, i):\n",
    "        if i % x == 0:\n",
    "            break\n",
    "    else:\n",
    "        prime_num.append(i)\n",
    "\n",
    "print(prime_num)"
   ]
  }
 ]
}