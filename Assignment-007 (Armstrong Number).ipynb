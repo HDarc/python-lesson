{
 "metadata": {
  "language_info": {
   "codemirror_mode": {
    "name": "ipython",
    "version": 3
   },
   "file_extension": ".py",
   "mimetype": "text/x-python",
   "name": "python",
   "nbconvert_exporter": "python",
   "pygments_lexer": "ipython3",
   "version": "3.8.5-final"
  },
  "orig_nbformat": 2,
  "kernelspec": {
   "name": "python3",
   "display_name": "Python 3",
   "language": "python"
  }
 },
 "nbformat": 4,
 "nbformat_minor": 2,
 "cells": [
  {
   "cell_type": "code",
   "execution_count": 2,
   "metadata": {},
   "outputs": [
    {
     "output_type": "stream",
     "name": "stdout",
     "text": [
      "407 is an Armstrong number\n"
     ]
    }
   ],
   "source": [
    "while True:\n",
    "    num = input(\"Enter a pozitif number for check it's an Amstrong number or not : \")\n",
    "    digits = len(num)\n",
    "    sum = 0\n",
    "    if not num.isdigit():\n",
    "        print(num, \"It is an invalid entry. Don't use non-numeric, float, \\\n",
    "            or negative values!\") \n",
    "    elif int(num) >= 0:\n",
    "        for i in range(digits):\n",
    "            sum += int(num[i]) ** digits\n",
    "        if sum == int(num):\n",
    "            print(\"{} is an Armstrong number\".format(num))\n",
    "            break\n",
    "        else:\n",
    "            print (\"{} is not an Armstrong number\".format(num))\n",
    "            break\n",
    "break"
   ]
  },
  {
   "cell_type": "code",
   "execution_count": null,
   "metadata": {},
   "outputs": [],
   "source": []
  }
 ]
}