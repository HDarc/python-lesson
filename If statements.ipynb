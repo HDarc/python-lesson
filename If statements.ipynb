{
 "metadata": {
  "language_info": {
   "codemirror_mode": {
    "name": "ipython",
    "version": 3
   },
   "file_extension": ".py",
   "mimetype": "text/x-python",
   "name": "python",
   "nbconvert_exporter": "python",
   "pygments_lexer": "ipython3",
   "version": "3.8.5-final"
  },
  "orig_nbformat": 2,
  "kernelspec": {
   "name": "python3",
   "display_name": "Python 3",
   "language": "python"
  }
 },
 "nbformat": 4,
 "nbformat_minor": 2,
 "cells": [
  {
   "cell_type": "code",
   "execution_count": 5,
   "metadata": {},
   "outputs": [
    {
     "output_type": "stream",
     "name": "stdout",
     "text": [
      "Bon Appetit\n"
     ]
    }
   ],
   "source": [
    "minced=True\n",
    "bread=True\n",
    "lettuce=True\n",
    "pepper=False\n",
    "store=True\n",
    "hamburger = minced and bread and (lettuce or pepper) and store\n",
    "if hamburger:\n",
    "    print(\"Bon Appetit\")"
   ]
  },
  {
   "cell_type": "code",
   "execution_count": 8,
   "metadata": {},
   "outputs": [
    {
     "output_type": "stream",
     "name": "stdout",
     "text": [
      "We are the same!\n"
     ]
    }
   ],
   "source": [
    "a= set(\"TWELVE PLUS ONE\")\n",
    "b= set(\"ELEVEN PLUS TWO\")\n",
    "if a==b:\n",
    "    print(\"We are the same!\")"
   ]
  },
  {
   "cell_type": "code",
   "execution_count": 1,
   "metadata": {},
   "outputs": [
    {
     "output_type": "stream",
     "name": "stdout",
     "text": [
      "You entered False\n"
     ]
    }
   ],
   "source": [
    "convert= input(\"Please enter Yes or No : \").title().strip() == \"Yes\"\n",
    "print(\"You entered\", convert)"
   ]
  },
  {
   "cell_type": "code",
   "execution_count": 1,
   "metadata": {},
   "outputs": [
    {
     "output_type": "stream",
     "name": "stdout",
     "text": [
      "22 is even\n"
     ]
    }
   ],
   "source": [
    "num = int(input(\"Please enter a number: \"))\n",
    "if (num % 2) == 0:\n",
    "    print(\"{} is even\".format(num)) #print(num, \" is even\") da olur.\n",
    "else:\n",
    "    print(f\"{num} is odd\") #f formatıylada olabilir."
   ]
  },
  {
   "cell_type": "code",
   "execution_count": 2,
   "metadata": {},
   "outputs": [
    {
     "output_type": "stream",
     "name": "stdout",
     "text": [
      "22.0 is positive\n"
     ]
    }
   ],
   "source": [
    "num = float(input(\"Please enter a number: \"))\n",
    "if num > 0:\n",
    "    print(\"{} is positive\".format(num))\n",
    "else:\n",
    "    print(\"{} is negative\".format(num))"
   ]
  },
  {
   "cell_type": "code",
   "execution_count": 5,
   "metadata": {},
   "outputs": [
    {
     "output_type": "stream",
     "name": "stdout",
     "text": [
      "The large number is 22.0\n"
     ]
    }
   ],
   "source": [
    "num3 = float(input(\"Please enter a number: \"))\n",
    "num4 = float(input(\"Please enter a number again: \"))\n",
    "\n",
    "if num3 > num4:\n",
    "    print(\"The large number is\", num3)\n",
    "else:\n",
    "    print(\"The large number is\", num4)"
   ]
  },
  {
   "cell_type": "code",
   "execution_count": 7,
   "metadata": {},
   "outputs": [
    {
     "output_type": "stream",
     "name": "stdout",
     "text": [
      "Yes\n"
     ]
    }
   ],
   "source": [
    "bool_value=True\n",
    "if bool_value: #if bool_value == True:\n",
    "    print(\"Yes\")\n",
    "else:\n",
    "    print(\"No\")"
   ]
  },
  {
   "cell_type": "code",
   "execution_count": 4,
   "metadata": {},
   "outputs": [
    {
     "output_type": "stream",
     "name": "stdout",
     "text": [
      "The large number is 9.0\n"
     ]
    }
   ],
   "source": [
    "num1 = float(input(\"first number: \"))\n",
    "num2 = float(input(\"second number: \"))\n",
    "num3 = float(input(\"second number: \"))\n",
    "\n",
    "if (num1 > num2) and (num1 > num3):\n",
    "    print(\"The large number is\", num5)\n",
    "elif num2 > num1 and (num2 > num3):\n",
    "    print(\"The large number is\", num6)\n",
    "else:\n",
    "    print(\"The large number is\", num3)"
   ]
  },
  {
   "cell_type": "code",
   "execution_count": 7,
   "metadata": {},
   "outputs": [
    {
     "output_type": "stream",
     "name": "stdout",
     "text": [
      "0.0 is zero\n"
     ]
    }
   ],
   "source": [
    "num = float(input(\"Please enter a number: \"))\n",
    "if num > 0:\n",
    "    print(\"{} is positive\".format(num))\n",
    "elif num == 0:\n",
    "    print(\"{} is zero\".format(num))\n",
    "else:\n",
    "    print(\"{} is negative\".format(num))"
   ]
  },
  {
   "cell_type": "code",
   "execution_count": 28,
   "metadata": {},
   "outputs": [
    {
     "output_type": "stream",
     "name": "stdout",
     "text": [
      "Your degree is B-\n"
     ]
    }
   ],
   "source": [
    "score = int(input(\"Enter your score: \"))\n",
    "if score > 94:\n",
    "    print(\"Your degree is A+\")\n",
    "elif score > 79:\n",
    "    if score > 89:\n",
    "        print(\"Your degree is A\")\n",
    "    elif score > 84:\n",
    "        print(\"Your degree is B+\")\n",
    "    else:\n",
    "        print(\"Your degree is B\")\n",
    "else:\n",
    "     print(\"Your degree is B-\")"
   ]
  },
  {
   "cell_type": "code",
   "execution_count": 42,
   "metadata": {},
   "outputs": [
    {
     "output_type": "stream",
     "name": "stdout",
     "text": [
      "Your degree is  A+\n"
     ]
    }
   ],
   "source": [
    "score = int(input(\"Enter your score: \"))\n",
    "if score >= 90:\n",
    "    if score >= 95:\n",
    "        score_letter = \"A+\"\n",
    "    else: score_letter = \"A\"\n",
    "\n",
    "elif score >= 80:\n",
    "    if score >= 85:\n",
    "        score_letter = \"B+\"\n",
    "    else: score_letter = \"B\"\n",
    "\n",
    "else: score_letter = \"B-\"\n",
    "\n",
    "print(\"Your degree is \", score_letter)"
   ]
  },
  {
   "cell_type": "code",
   "execution_count": 39,
   "metadata": {},
   "outputs": [
    {
     "output_type": "stream",
     "name": "stdout",
     "text": [
      "Your degree is B-\n"
     ]
    }
   ],
   "source": [
    "score = int(input(\"Enter your score: \"))\n",
    "if score > 94:\n",
    "    print(\"Your degree is A+\")\n",
    "elif score > 89:\n",
    "    print(\"Your degree is A\")\n",
    "elif score > 84:\n",
    "    print(\"Your degree is B+\")\n",
    "elif score > 79:\n",
    "    print(\"Your degree is B\")\n",
    "else:\n",
    "    print(\"Your degree is B-\")"
   ]
  },
  {
   "cell_type": "code",
   "execution_count": 8,
   "metadata": {},
   "outputs": [
    {
     "output_type": "stream",
     "name": "stdout",
     "text": [
      "Rose\nOrchid\nTulip\n"
     ]
    }
   ],
   "source": [
    "flowers = ['Rose', 'Orchid', 'Tulip']\n",
    "count1 = len(flowers)\n",
    "count2 = 0\n",
    "\n",
    "while count1>0 :\n",
    "    print(flowers[count2])\n",
    "    count1 -= 1\n",
    "    count2 += 1"
   ]
  },
  {
   "cell_type": "code",
   "execution_count": 6,
   "metadata": {},
   "outputs": [
    {
     "output_type": "stream",
     "name": "stdout",
     "text": [
      "D (Not Bad)\n"
     ]
    }
   ],
   "source": [
    "math_mark = int(input('Please enter the mark: '))\n",
    "if math_mark> 84:\n",
    "    print(\"A (Excellent)\")\n",
    "elif math_mark > 69:\n",
    "    print(\"B (Good)\")\n",
    "elif math_mark > 59:\n",
    "    print(\"C (Medium)\")\n",
    "elif math_mark > 44:\n",
    "    print(\"D (Not Bad)\")\n",
    "else:\n",
    "    print(\"F (Failed)\")"
   ]
  },
  {
   "cell_type": "code",
   "execution_count": null,
   "metadata": {},
   "outputs": [],
   "source": [
    "saved_amount = int(input('Please enter your saved amount: '))\n",
    "if saved_amount <= ps4_price/2:\n",
    "    print('You must save more, keep saving!')\n",
    "elif saved_amount > ps4_price/2 and saved_amount < ps4_price:\n",
    "    print('You saved more than half, keep saving!')\n",
    "else:\n",
    "    print('Yippee! You can buy your PS4')"
   ]
  },
  {
   "cell_type": "code",
   "execution_count": 7,
   "metadata": {},
   "outputs": [
    {
     "output_type": "stream",
     "name": "stdout",
     "text": [
      "I will stop smoking\nI will stop smoking\nI will stop smoking\nI will stop smoking\nI will stop smoking\n"
     ]
    }
   ],
   "source": [
    "a = 3\n",
    "while a**2 < 299:\n",
    "    print('I will stop smoking')\n",
    "    a += 3"
   ]
  },
  {
   "cell_type": "code",
   "execution_count": 11,
   "metadata": {},
   "outputs": [
    {
     "output_type": "stream",
     "name": "stdout",
     "text": [
      "0\n1\n4\n9\n"
     ]
    }
   ],
   "source": [
    "number = int(input('Please enter a number: '))\n",
    "\n",
    "for i in range(number):\n",
    "    print(i**2)"
   ]
  },
  {
   "cell_type": "code",
   "execution_count": 17,
   "metadata": {},
   "outputs": [
    {
     "output_type": "stream",
     "name": "stdout",
     "text": [
      "0\n1\n4\n"
     ]
    }
   ],
   "source": [
    "number = int(input('Please enter a number: '))\n",
    "\n",
    "count = 0\n",
    "\n",
    "while count < number:\n",
    "    print(count**2)\n",
    "    count += 1"
   ]
  },
  {
   "cell_type": "code",
   "execution_count": 16,
   "metadata": {},
   "outputs": [
    {
     "output_type": "stream",
     "name": "stdout",
     "text": [
      "The type of {'section': 5, 'topic': 2} is <class 'dict'>\nThe type of clarusway is <class 'str'>\nThe type of [1, 4] is <class 'list'>\nThe type of 2020 is <class 'int'>\nThe type of 3.14 is <class 'float'>\nThe type of (1+618j) is <class 'complex'>\nThe type of False is <class 'bool'>\nThe type of (10, 20) is <class 'tuple'>\n"
     ]
    }
   ],
   "source": [
    "sample_list = [{\"section\":5, \"topic\":2}, 'clarusway', [1, 4], 2020, 3.14, 1+618j, False, (10, 20)]\n",
    "\n",
    "for i in sample_list:\n",
    "   print (\"The type of\", i, \"is\", type(i))"
   ]
  },
  {
   "cell_type": "code",
   "execution_count": null,
   "metadata": {},
   "outputs": [],
   "source": [
    "    "
   ]
  }
 ]
}