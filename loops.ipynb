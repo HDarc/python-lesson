{
 "metadata": {
  "language_info": {
   "codemirror_mode": {
    "name": "ipython",
    "version": 3
   },
   "file_extension": ".py",
   "mimetype": "text/x-python",
   "name": "python",
   "nbconvert_exporter": "python",
   "pygments_lexer": "ipython3",
   "version": "3.8.5-final"
  },
  "orig_nbformat": 2,
  "kernelspec": {
   "name": "python3",
   "display_name": "Python 3",
   "language": "python"
  }
 },
 "nbformat": 4,
 "nbformat_minor": 2,
 "cells": [
  {
   "cell_type": "code",
   "execution_count": 2,
   "metadata": {},
   "outputs": [
    {
     "output_type": "stream",
     "name": "stdout",
     "text": [
      "Let's play the guessing game!\n",
      "Are you a MINDREADER!!!\n"
     ]
    }
   ],
   "source": [
    "answer = 44\n",
    "\n",
    "question = 'What number am I thinking of?  '\n",
    "print (\"Let's play the guessing game!\")\n",
    "\n",
    "while True:\n",
    "    guess = int(input(question))\n",
    "\n",
    "    if guess < answer:\n",
    "        print('Little higher')\n",
    "    elif guess > answer:\n",
    "        print('Little lower')\n",
    "    else:  # guess == answer\n",
    "        print('Are you a MINDREADER!!!')\n",
    "        break"
   ]
  },
  {
   "cell_type": "code",
   "execution_count": null,
   "metadata": {},
   "outputs": [],
   "source": [
    "answer = 28\n",
    "guess = int(input(\"Please guess the number in my mind:\"))\n",
    "while guess != answer :\n",
    "    if guess < answer:\n",
    "       guess = int(input(\"Litte higher!: \"))\n",
    "    else :\n",
    "        guess = int(input(\"Litte lower!: \"))\n",
    "print(\"Are you a MIDREADER!\")"
   ]
  },
  {
   "cell_type": "code",
   "execution_count": 1,
   "metadata": {},
   "outputs": [
    {
     "output_type": "stream",
     "name": "stdout",
     "text": [
      "You entered your age in correct numeric format\n"
     ]
    }
   ],
   "source": [
    "age = input(\"Please enter your age\")\n",
    "while age.isdigit() == False:\n",
    "    age = input(\"You entered your in invalid format. Please enter your age as integer\")\n",
    "print(\"You entered your age in correct numeric format\")"
   ]
  },
  {
   "cell_type": "code",
   "execution_count": 27,
   "metadata": {},
   "outputs": [
    {
     "output_type": "stream",
     "name": "stdout",
     "text": [
      "Your sentence is: Clarusway is a chance for me \nThe length of the longest word is : 9\n"
     ]
    }
   ],
   "source": [
    "sentence = input(\"Give a sentence :\")\n",
    "\n",
    "words = sentence.split()\n",
    "longest = 0\n",
    "i = 0\n",
    "while i <= (len(words)-1):\n",
    "    if len(words[i]) > longest:\n",
    "        longest = len(words[i])\n",
    "    i += 1\n",
    "print(\"Your sentence is:\", sentence, \"\\nThe length of the longest word is :\", longest)"
   ]
  },
  {
   "cell_type": "code",
   "execution_count": 15,
   "metadata": {},
   "outputs": [
    {
     "output_type": "stream",
     "name": "stdout",
     "text": [
      "Hello Ahmet\nHello Aisha\nHello Adam\nHello Joseph\nHello Gabriel\n"
     ]
    }
   ],
   "source": [
    "names = [\"Ahmet\", \"Aisha\", \"Adam\", \"Joseph\", \"Gabriel\"]\n",
    "\n",
    "for i in names:\n",
    "    print(\"Hello\", i)"
   ]
  },
  {
   "cell_type": "code",
   "execution_count": 45,
   "metadata": {},
   "outputs": [
    {
     "output_type": "stream",
     "name": "stdout",
     "text": [
      "[1, 2, 3, 4, 5]\n"
     ]
    }
   ],
   "source": [
    "x =[]\n",
    "for i in range(1,6):\n",
    "    x.append(i)\n",
    "print(x)"
   ]
  },
  {
   "cell_type": "code",
   "execution_count": 54,
   "metadata": {},
   "outputs": [
    {
     "output_type": "stream",
     "name": "stdout",
     "text": [
      "c-l-a-r-u-s-w-a-y"
     ]
    }
   ],
   "source": [
    "word = \"clarusway\"\n",
    "count = 0\n",
    "for i in word:\n",
    "    count += 1\n",
    "    if count < len(word):\n",
    "        i = i+ \"-\"\n",
    "    print(i, end=\"\")"
   ]
  },
  {
   "cell_type": "code",
   "execution_count": 55,
   "metadata": {},
   "outputs": [
    {
     "output_type": "stream",
     "name": "stdout",
     "text": [
      "c-l-a-r-u-s-w-a-y\n"
     ]
    }
   ],
   "source": [
    "word = \"clarusway\"\n",
    "\n",
    "for i in word.split():\n",
    "    print(\"-\".join(word))"
   ]
  },
  {
   "cell_type": "code",
   "execution_count": 40,
   "metadata": {},
   "outputs": [
    {
     "output_type": "stream",
     "name": "stdout",
     "text": [
      "name\nsurname\nage\nDaniel Smith 35 name : Daniel\nsurname : Smith\nage : 35\n"
     ]
    }
   ],
   "source": [
    "user = {\n",
    "    \"name\" : \"Daniel\",\n",
    "    \"surname\" : \"Smith\",\n",
    "    \"age\" : 35\n",
    "}\n",
    "\n",
    "for attribute in user:\n",
    "    print(attribute)\n",
    "\n",
    "for i in user.values():\n",
    "    print(i, end=\" \")\n",
    "\n",
    "for key, value in user.items():\n",
    "    print(key, \":\", value)"
   ]
  },
  {
   "cell_type": "code",
   "execution_count": 48,
   "metadata": {},
   "outputs": [
    {
     "output_type": "stream",
     "name": "stdout",
     "text": [
      "I love you\nI love you\nI love you\n"
     ]
    }
   ],
   "source": [
    "times = int(input(\"How many times should i say 'I love you\"))\n",
    "\n",
    "for i in range(times):\n",
    "    print(\"I love you\")"
   ]
  },
  {
   "cell_type": "code",
   "execution_count": 70,
   "metadata": {},
   "outputs": [
    {
     "output_type": "stream",
     "name": "stdout",
     "text": [
      "5 x 0 =  0\n5 x 1 =  5\n5 x 2 =  10\n5 x 3 =  15\n5 x 4 =  20\n5 x 5 =  25\n5 x 6 =  30\n5 x 7 =  35\n5 x 8 =  40\n5 x 9 =  45\n5 x 10 =  50\n"
     ]
    }
   ],
   "source": [
    "number = int(input(\"Enter a number between 1-10 : \"))\n",
    "\n",
    "for i in range(11):\n",
    "    print(\"{} x {} = \".format(number, i), number * i)"
   ]
  },
  {
   "cell_type": "code",
   "execution_count": 68,
   "metadata": {},
   "outputs": [
    {
     "output_type": "stream",
     "name": "stdout",
     "text": [
      "[0, 1, 2, 3, 4, 5, 6, 7, 8, 9, 10]\n{0, 1, 2, 3, 4, 5, 6, 7, 8, 9}\n(0, 1, 2, 3, 4, 5, 6, 7, 8, 9, 10)\n"
     ]
    }
   ],
   "source": [
    "b = list(range(11))\n",
    "print(b)\n",
    "\n",
    "a = set(range(0,10))\n",
    "print(a)\n",
    "\n",
    "c = tuple(range(11))\n",
    "print(c)"
   ]
  },
  {
   "cell_type": "code",
   "execution_count": 81,
   "metadata": {},
   "outputs": [
    {
     "output_type": "stream",
     "name": "stdout",
     "text": [
      "range(0, 5)\n0 1 2 3 4\n5 7 9 11 13 15 17 19 21 23\ns e p e r a t e\n10 8 6 4 2\n012345678910"
     ]
    }
   ],
   "source": [
    "print(range(5))\n",
    "print(* range(5))\n",
    "print(* range(5,25,2))\n",
    "print(*(\"seperate\"))\n",
    "print(*range(10,0,-2))\n",
    "\n",
    "for i in range(11):\n",
    "    print(i, end=\"\")"
   ]
  },
  {
   "cell_type": "code",
   "execution_count": 79,
   "metadata": {},
   "outputs": [
    {
     "output_type": "stream",
     "name": "stdout",
     "text": [
      "one : 1\ntwo : 2\nthree : 3\nfour : 4\nfive : 5\n"
     ]
    }
   ],
   "source": [
    "text = [\"one\", \"two\", \"three\", \"four\",\"five\"]\n",
    "numbers = [1, 2, 3, 4, 5]\n",
    "for x, y in zip(text, numbers):\n",
    "    print(x, \":\", y)"
   ]
  },
  {
   "cell_type": "code",
   "execution_count": null,
   "metadata": {},
   "outputs": [],
   "source": []
  }
 ]
}