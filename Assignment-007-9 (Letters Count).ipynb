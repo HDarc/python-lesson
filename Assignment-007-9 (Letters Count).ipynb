{
 "metadata": {
  "language_info": {
   "codemirror_mode": {
    "name": "ipython",
    "version": 3
   },
   "file_extension": ".py",
   "mimetype": "text/x-python",
   "name": "python",
   "nbconvert_exporter": "python",
   "pygments_lexer": "ipython3",
   "version": "3.8.5-final"
  },
  "orig_nbformat": 2,
  "kernelspec": {
   "name": "python3",
   "display_name": "Python 3",
   "language": "python"
  }
 },
 "nbformat": 4,
 "nbformat_minor": 2,
 "cells": [
  {
   "cell_type": "code",
   "execution_count": 1,
   "metadata": {},
   "outputs": [
    {
     "output_type": "stream",
     "name": "stdout",
     "text": [
      "{'R': 1, 'e': 1, 'a': 1, 'l': 2, ' ': 1, 'w': 1, 'o': 1, 'r': 1, 'd': 1}\n"
     ]
    }
   ],
   "source": [
    "sentence = list(input(\"Please enter your sentence: \"))\n",
    "result = dict()\n",
    "result.update({i : sentence.count(i) for i in sentence})\n",
    "print(result)"
   ]
  },
  {
   "cell_type": "code",
   "execution_count": null,
   "metadata": {},
   "outputs": [],
   "source": []
  }
 ]
}